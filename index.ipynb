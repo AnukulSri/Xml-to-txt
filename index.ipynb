{
 "cells": [
  {
   "cell_type": "code",
   "execution_count": null,
   "metadata": {},
   "outputs": [],
   "source": [
    "import os\n",
    "import xml.etree.ElementTree as ET\n",
    "\n",
    "def convert_voc_to_yolo(xml_folder, txt_folder, classes):\n",
    "    # Ensure output directory exists\n",
    "    os.makedirs(txt_folder, exist_ok=True)\n",
    "    \n",
    "    for xml_file in os.listdir(xml_folder):\n",
    "        if xml_file.endswith(\".xml\"):\n",
    "            tree = ET.parse(os.path.join(xml_folder, xml_file))\n",
    "            root = tree.getroot()\n",
    "\n",
    "            # Image dimensions\n",
    "            size = root.find(\"size\")\n",
    "            image_width = int(size.find(\"width\").text)\n",
    "            image_height = int(size.find(\"height\").text)\n",
    "\n",
    "            # Prepare the corresponding txt file\n",
    "            txt_filename = os.path.join(txt_folder, xml_file.replace(\".xml\", \".txt\"))\n",
    "            with open(txt_filename, \"w\") as txt_file:\n",
    "                for obj in root.findall(\"object\"):\n",
    "                    class_name = obj.find(\"name\").text\n",
    "                    if class_name in classes:\n",
    "                        class_id = classes.index(class_name)\n",
    "\n",
    "                        # Get bounding box coordinates\n",
    "                        bndbox = obj.find(\"bndbox\")\n",
    "                        xmin = float(bndbox.find(\"xmin\").text)\n",
    "                        ymin = float(bndbox.find(\"ymin\").text)\n",
    "                        xmax = float(bndbox.find(\"xmax\").text)\n",
    "                        ymax = float(bndbox.find(\"ymax\").text)\n",
    "\n",
    "                        # Convert to YOLO format\n",
    "                        center_x = (xmin + xmax) / 2 / image_width\n",
    "                        center_y = (ymin + ymax) / 2 / image_height\n",
    "                        width = (xmax - xmin) / image_width\n",
    "                        height = (ymax - ymin) / image_height\n",
    "\n",
    "                        # Write the line to txt file\n",
    "                        txt_file.write(f\"{class_id} {center_x} {center_y} {width} {height}\\n\")\n",
    "\n",
    "    print(\"Conversion completed!\")\n",
    "\n",
    "# Define paths and class list\n",
    "xml_folder = \"path of the folder\"\n",
    "txt_folder = \"path to store the file\"\n",
    "classes = [\"number_plate\"]  # Add all class names if you have multiple classes\n",
    "\n",
    "convert_voc_to_yolo(xml_folder, txt_folder, classes)\n"
   ]
  }
 ],
 "metadata": {
  "kernelspec": {
   "display_name": "base",
   "language": "python",
   "name": "python3"
  },
  "language_info": {
   "name": "python",
   "version": "3.9.12"
  }
 },
 "nbformat": 4,
 "nbformat_minor": 2
}
